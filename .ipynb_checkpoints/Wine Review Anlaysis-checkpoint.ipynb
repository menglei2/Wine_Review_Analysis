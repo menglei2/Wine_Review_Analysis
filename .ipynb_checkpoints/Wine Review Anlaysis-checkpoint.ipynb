{
 "cells": [
  {
   "cell_type": "markdown",
   "metadata": {},
   "source": [
    "## Wine Review Analysis"
   ]
  },
  {
   "cell_type": "markdown",
   "metadata": {},
   "source": [
    "### Description of Dataset and Overview\n",
    "The dataset I used was the wine review dataset at Kaggle (https://www.kaggle.com/zynicide/wine-reviews). The main goal is to predict the points rated by WineEnthusiast on a scale of 1-100 based on several wine information, including wine review, country of the wine, variety and winery. I also provided recommendations of the wineries based on customer's need. I used two different models to predict the points: lasso regression and random forest to build the model. Both models seem to work well, but lasso regression performs better based on a smaller RMSE. \n",
    "\n",
    "Besides, I also gave recomendations of 5 wineries to a customer who needs frutiy pinot noir,and with a price of less than 20 dollars. The recommendations are also based on some additional assumptions, including the location of the customer, additional preference of the wineries, etc."
   ]
  },
  {
   "cell_type": "code",
   "execution_count": 161,
   "metadata": {},
   "outputs": [],
   "source": [
    "# import packages\n",
    "import pandas as pd\n",
    "import numpy as np\n",
    "import matplotlib.pyplot as plt\n",
    "plt.style.use('seaborn-whitegrid')\n",
    "%matplotlib inline\n",
    "\n",
    "import nltk\n",
    "from nltk.tokenize import word_tokenize\n",
    "from nltk.corpus import stopwords\n",
    "\n",
    "import string\n",
    "\n",
    "from wordcloud import WordCloud, STOPWORDS, ImageColorGenerator"
   ]
  },
  {
   "cell_type": "code",
   "execution_count": 53,
   "metadata": {},
   "outputs": [],
   "source": [
    "# read in dataset\n",
    "wine = pd.read_csv(\"wine.csv\")\n",
    "wine.drop(['Unnamed: 0'],axis=1, inplace=True)"
   ]
  },
  {
   "cell_type": "markdown",
   "metadata": {},
   "source": [
    "Let's take a look at the first 5 rows of the dataset."
   ]
  },
  {
   "cell_type": "code",
   "execution_count": 54,
   "metadata": {},
   "outputs": [
    {
     "data": {
      "text/html": [
       "<div>\n",
       "<style scoped>\n",
       "    .dataframe tbody tr th:only-of-type {\n",
       "        vertical-align: middle;\n",
       "    }\n",
       "\n",
       "    .dataframe tbody tr th {\n",
       "        vertical-align: top;\n",
       "    }\n",
       "\n",
       "    .dataframe thead th {\n",
       "        text-align: right;\n",
       "    }\n",
       "</style>\n",
       "<table border=\"1\" class=\"dataframe\">\n",
       "  <thead>\n",
       "    <tr style=\"text-align: right;\">\n",
       "      <th></th>\n",
       "      <th>country</th>\n",
       "      <th>description</th>\n",
       "      <th>designation</th>\n",
       "      <th>points</th>\n",
       "      <th>price</th>\n",
       "      <th>province</th>\n",
       "      <th>region_1</th>\n",
       "      <th>region_2</th>\n",
       "      <th>taster_name</th>\n",
       "      <th>taster_twitter_handle</th>\n",
       "      <th>title</th>\n",
       "      <th>variety</th>\n",
       "      <th>winery</th>\n",
       "    </tr>\n",
       "  </thead>\n",
       "  <tbody>\n",
       "    <tr>\n",
       "      <th>0</th>\n",
       "      <td>Italy</td>\n",
       "      <td>Aromas include tropical fruit, broom, brimston...</td>\n",
       "      <td>Vulkà Bianco</td>\n",
       "      <td>87</td>\n",
       "      <td>NaN</td>\n",
       "      <td>Sicily &amp; Sardinia</td>\n",
       "      <td>Etna</td>\n",
       "      <td>NaN</td>\n",
       "      <td>Kerin O’Keefe</td>\n",
       "      <td>@kerinokeefe</td>\n",
       "      <td>Nicosia 2013 Vulkà Bianco  (Etna)</td>\n",
       "      <td>White Blend</td>\n",
       "      <td>Nicosia</td>\n",
       "    </tr>\n",
       "    <tr>\n",
       "      <th>1</th>\n",
       "      <td>Portugal</td>\n",
       "      <td>This is ripe and fruity, a wine that is smooth...</td>\n",
       "      <td>Avidagos</td>\n",
       "      <td>87</td>\n",
       "      <td>15.0</td>\n",
       "      <td>Douro</td>\n",
       "      <td>NaN</td>\n",
       "      <td>NaN</td>\n",
       "      <td>Roger Voss</td>\n",
       "      <td>@vossroger</td>\n",
       "      <td>Quinta dos Avidagos 2011 Avidagos Red (Douro)</td>\n",
       "      <td>Portuguese Red</td>\n",
       "      <td>Quinta dos Avidagos</td>\n",
       "    </tr>\n",
       "    <tr>\n",
       "      <th>2</th>\n",
       "      <td>US</td>\n",
       "      <td>Tart and snappy, the flavors of lime flesh and...</td>\n",
       "      <td>NaN</td>\n",
       "      <td>87</td>\n",
       "      <td>14.0</td>\n",
       "      <td>Oregon</td>\n",
       "      <td>Willamette Valley</td>\n",
       "      <td>Willamette Valley</td>\n",
       "      <td>Paul Gregutt</td>\n",
       "      <td>@paulgwine</td>\n",
       "      <td>Rainstorm 2013 Pinot Gris (Willamette Valley)</td>\n",
       "      <td>Pinot Gris</td>\n",
       "      <td>Rainstorm</td>\n",
       "    </tr>\n",
       "    <tr>\n",
       "      <th>3</th>\n",
       "      <td>US</td>\n",
       "      <td>Pineapple rind, lemon pith and orange blossom ...</td>\n",
       "      <td>Reserve Late Harvest</td>\n",
       "      <td>87</td>\n",
       "      <td>13.0</td>\n",
       "      <td>Michigan</td>\n",
       "      <td>Lake Michigan Shore</td>\n",
       "      <td>NaN</td>\n",
       "      <td>Alexander Peartree</td>\n",
       "      <td>NaN</td>\n",
       "      <td>St. Julian 2013 Reserve Late Harvest Riesling ...</td>\n",
       "      <td>Riesling</td>\n",
       "      <td>St. Julian</td>\n",
       "    </tr>\n",
       "    <tr>\n",
       "      <th>4</th>\n",
       "      <td>US</td>\n",
       "      <td>Much like the regular bottling from 2012, this...</td>\n",
       "      <td>Vintner's Reserve Wild Child Block</td>\n",
       "      <td>87</td>\n",
       "      <td>65.0</td>\n",
       "      <td>Oregon</td>\n",
       "      <td>Willamette Valley</td>\n",
       "      <td>Willamette Valley</td>\n",
       "      <td>Paul Gregutt</td>\n",
       "      <td>@paulgwine</td>\n",
       "      <td>Sweet Cheeks 2012 Vintner's Reserve Wild Child...</td>\n",
       "      <td>Pinot Noir</td>\n",
       "      <td>Sweet Cheeks</td>\n",
       "    </tr>\n",
       "  </tbody>\n",
       "</table>\n",
       "</div>"
      ],
      "text/plain": [
       "    country                                        description  \\\n",
       "0     Italy  Aromas include tropical fruit, broom, brimston...   \n",
       "1  Portugal  This is ripe and fruity, a wine that is smooth...   \n",
       "2        US  Tart and snappy, the flavors of lime flesh and...   \n",
       "3        US  Pineapple rind, lemon pith and orange blossom ...   \n",
       "4        US  Much like the regular bottling from 2012, this...   \n",
       "\n",
       "                          designation  points  price           province  \\\n",
       "0                        Vulkà Bianco      87    NaN  Sicily & Sardinia   \n",
       "1                            Avidagos      87   15.0              Douro   \n",
       "2                                 NaN      87   14.0             Oregon   \n",
       "3                Reserve Late Harvest      87   13.0           Michigan   \n",
       "4  Vintner's Reserve Wild Child Block      87   65.0             Oregon   \n",
       "\n",
       "              region_1           region_2         taster_name  \\\n",
       "0                 Etna                NaN       Kerin O’Keefe   \n",
       "1                  NaN                NaN          Roger Voss   \n",
       "2    Willamette Valley  Willamette Valley        Paul Gregutt   \n",
       "3  Lake Michigan Shore                NaN  Alexander Peartree   \n",
       "4    Willamette Valley  Willamette Valley        Paul Gregutt   \n",
       "\n",
       "  taster_twitter_handle                                              title  \\\n",
       "0          @kerinokeefe                  Nicosia 2013 Vulkà Bianco  (Etna)   \n",
       "1            @vossroger      Quinta dos Avidagos 2011 Avidagos Red (Douro)   \n",
       "2           @paulgwine       Rainstorm 2013 Pinot Gris (Willamette Valley)   \n",
       "3                   NaN  St. Julian 2013 Reserve Late Harvest Riesling ...   \n",
       "4           @paulgwine   Sweet Cheeks 2012 Vintner's Reserve Wild Child...   \n",
       "\n",
       "          variety               winery  \n",
       "0     White Blend              Nicosia  \n",
       "1  Portuguese Red  Quinta dos Avidagos  \n",
       "2      Pinot Gris            Rainstorm  \n",
       "3        Riesling           St. Julian  \n",
       "4      Pinot Noir         Sweet Cheeks  "
      ]
     },
     "execution_count": 54,
     "metadata": {},
     "output_type": "execute_result"
    }
   ],
   "source": [
    "wine.head()"
   ]
  },
  {
   "cell_type": "markdown",
   "metadata": {},
   "source": [
    "### Data cleaning"
   ]
  },
  {
   "cell_type": "code",
   "execution_count": 55,
   "metadata": {},
   "outputs": [
    {
     "data": {
      "text/plain": [
       "country                   True\n",
       "description              False\n",
       "designation               True\n",
       "points                   False\n",
       "price                     True\n",
       "province                  True\n",
       "region_1                  True\n",
       "region_2                  True\n",
       "taster_name               True\n",
       "taster_twitter_handle     True\n",
       "title                    False\n",
       "variety                   True\n",
       "winery                   False\n",
       "dtype: bool"
      ]
     },
     "execution_count": 55,
     "metadata": {},
     "output_type": "execute_result"
    }
   ],
   "source": [
    "# check what columns contain missing values\n",
    "wine.isnull().any()"
   ]
  },
  {
   "cell_type": "code",
   "execution_count": 63,
   "metadata": {},
   "outputs": [
    {
     "name": "stdout",
     "output_type": "stream",
     "text": [
      "Number of NA values:\n",
      "country:63\n",
      "description:0\n",
      "designation:37465\n",
      "points:0\n",
      "price:8996\n",
      "province:63\n",
      "region_1:21247\n",
      "region_2:79460\n",
      "taster_name:26244\n",
      "taster_twitter_handle:31213\n",
      "title:0\n",
      "variety:1\n",
      "winery:0\n"
     ]
    }
   ],
   "source": [
    "print('Number of NA values:')\n",
    "for col in wine.columns:\n",
    "    print('{}:{}'.format(col,wine[col].isna().sum()))"
   ]
  },
  {
   "cell_type": "markdown",
   "metadata": {},
   "source": [
    "According to the number of missing values in each column, I decide to drop the rows that have missing values in the following columns because they only have very few missing values: **country, province, variety**."
   ]
  },
  {
   "cell_type": "code",
   "execution_count": 116,
   "metadata": {},
   "outputs": [],
   "source": [
    "df = wine[(wine.country.notna())&(wine.province.notna())&(wine.variety.notna())]"
   ]
  },
  {
   "cell_type": "markdown",
   "metadata": {},
   "source": [
    "I will drop columns **designation** and **taster_twitter_handle** since there are too many missing values in these columns. I will create new variables to reflect whether the observations have **designation**, **taser_twiter_handle** instead.\n",
    "\n",
    "I will also drop column **region_2** because I think there are some overlaps between region_1 and region_2. I will only keep region_1."
   ]
  },
  {
   "cell_type": "code",
   "execution_count": 117,
   "metadata": {},
   "outputs": [],
   "source": [
    "df.loc[:,'has_designation'] = df.designation.notna()\n",
    "df.loc[:,'has_taster_twitter_handle'] = df.taster_twitter_handle.notna()\n",
    "df.drop(columns=['designation','region_2','taster_twitter_handle'],axis=1, inplace=True)"
   ]
  },
  {
   "cell_type": "markdown",
   "metadata": {},
   "source": [
    "I'm going to keep column **price** because I think it's an important factor when predicting points. And since I don't have much information about how to fill the missing prices, I will remove the observations that have missing prices. "
   ]
  },
  {
   "cell_type": "code",
   "execution_count": 118,
   "metadata": {},
   "outputs": [],
   "source": [
    "df = df[df.price.notna()]"
   ]
  },
  {
   "cell_type": "markdown",
   "metadata": {},
   "source": [
    "Another thing I want to check is column **description**. There might be duplicate reviews in the dataset. So I will remove duplicate reviews from the dataset."
   ]
  },
  {
   "cell_type": "code",
   "execution_count": 119,
   "metadata": {},
   "outputs": [
    {
     "data": {
      "text/plain": [
       "9398"
      ]
     },
     "execution_count": 119,
     "metadata": {},
     "output_type": "execute_result"
    }
   ],
   "source": [
    "# change descriptions to lower case for comparison\n",
    "df.loc[:,'lower_description'] = df.description.apply(lambda x: x.lower())\n",
    "df.drop('description',axis=1, inplace=True)\n",
    "# check how many duplicate rows\n",
    "(df.lower_description.value_counts()>1).sum()"
   ]
  },
  {
   "cell_type": "code",
   "execution_count": 149,
   "metadata": {},
   "outputs": [
    {
     "data": {
      "text/html": [
       "<div>\n",
       "<style scoped>\n",
       "    .dataframe tbody tr th:only-of-type {\n",
       "        vertical-align: middle;\n",
       "    }\n",
       "\n",
       "    .dataframe tbody tr th {\n",
       "        vertical-align: top;\n",
       "    }\n",
       "\n",
       "    .dataframe thead th {\n",
       "        text-align: right;\n",
       "    }\n",
       "</style>\n",
       "<table border=\"1\" class=\"dataframe\">\n",
       "  <thead>\n",
       "    <tr style=\"text-align: right;\">\n",
       "      <th></th>\n",
       "      <th>country</th>\n",
       "      <th>points</th>\n",
       "      <th>price</th>\n",
       "      <th>province</th>\n",
       "      <th>region_1</th>\n",
       "      <th>taster_name</th>\n",
       "      <th>title</th>\n",
       "      <th>variety</th>\n",
       "      <th>winery</th>\n",
       "      <th>has_designation</th>\n",
       "      <th>has_taster_twitter_handle</th>\n",
       "      <th>lower_description</th>\n",
       "    </tr>\n",
       "  </thead>\n",
       "  <tbody>\n",
       "    <tr>\n",
       "      <th>0</th>\n",
       "      <td>Portugal</td>\n",
       "      <td>87</td>\n",
       "      <td>15.0</td>\n",
       "      <td>Douro</td>\n",
       "      <td>NaN</td>\n",
       "      <td>Roger Voss</td>\n",
       "      <td>Quinta dos Avidagos 2011 Avidagos Red (Douro)</td>\n",
       "      <td>Portuguese Red</td>\n",
       "      <td>Quinta dos Avidagos</td>\n",
       "      <td>True</td>\n",
       "      <td>True</td>\n",
       "      <td>this is ripe and fruity, a wine that is smooth...</td>\n",
       "    </tr>\n",
       "    <tr>\n",
       "      <th>1</th>\n",
       "      <td>US</td>\n",
       "      <td>87</td>\n",
       "      <td>14.0</td>\n",
       "      <td>Oregon</td>\n",
       "      <td>Willamette Valley</td>\n",
       "      <td>Paul Gregutt</td>\n",
       "      <td>Rainstorm 2013 Pinot Gris (Willamette Valley)</td>\n",
       "      <td>Pinot Gris</td>\n",
       "      <td>Rainstorm</td>\n",
       "      <td>False</td>\n",
       "      <td>True</td>\n",
       "      <td>tart and snappy, the flavors of lime flesh and...</td>\n",
       "    </tr>\n",
       "    <tr>\n",
       "      <th>2</th>\n",
       "      <td>US</td>\n",
       "      <td>87</td>\n",
       "      <td>13.0</td>\n",
       "      <td>Michigan</td>\n",
       "      <td>Lake Michigan Shore</td>\n",
       "      <td>Alexander Peartree</td>\n",
       "      <td>St. Julian 2013 Reserve Late Harvest Riesling ...</td>\n",
       "      <td>Riesling</td>\n",
       "      <td>St. Julian</td>\n",
       "      <td>True</td>\n",
       "      <td>False</td>\n",
       "      <td>pineapple rind, lemon pith and orange blossom ...</td>\n",
       "    </tr>\n",
       "    <tr>\n",
       "      <th>3</th>\n",
       "      <td>US</td>\n",
       "      <td>87</td>\n",
       "      <td>65.0</td>\n",
       "      <td>Oregon</td>\n",
       "      <td>Willamette Valley</td>\n",
       "      <td>Paul Gregutt</td>\n",
       "      <td>Sweet Cheeks 2012 Vintner's Reserve Wild Child...</td>\n",
       "      <td>Pinot Noir</td>\n",
       "      <td>Sweet Cheeks</td>\n",
       "      <td>True</td>\n",
       "      <td>True</td>\n",
       "      <td>much like the regular bottling from 2012, this...</td>\n",
       "    </tr>\n",
       "    <tr>\n",
       "      <th>4</th>\n",
       "      <td>Spain</td>\n",
       "      <td>87</td>\n",
       "      <td>15.0</td>\n",
       "      <td>Northern Spain</td>\n",
       "      <td>Navarra</td>\n",
       "      <td>Michael Schachner</td>\n",
       "      <td>Tandem 2011 Ars In Vitro Tempranillo-Merlot (N...</td>\n",
       "      <td>Tempranillo-Merlot</td>\n",
       "      <td>Tandem</td>\n",
       "      <td>True</td>\n",
       "      <td>True</td>\n",
       "      <td>blackberry and raspberry aromas show a typical...</td>\n",
       "    </tr>\n",
       "    <tr>\n",
       "      <th>...</th>\n",
       "      <td>...</td>\n",
       "      <td>...</td>\n",
       "      <td>...</td>\n",
       "      <td>...</td>\n",
       "      <td>...</td>\n",
       "      <td>...</td>\n",
       "      <td>...</td>\n",
       "      <td>...</td>\n",
       "      <td>...</td>\n",
       "      <td>...</td>\n",
       "      <td>...</td>\n",
       "      <td>...</td>\n",
       "    </tr>\n",
       "    <tr>\n",
       "      <th>111506</th>\n",
       "      <td>Germany</td>\n",
       "      <td>90</td>\n",
       "      <td>28.0</td>\n",
       "      <td>Mosel</td>\n",
       "      <td>NaN</td>\n",
       "      <td>Anna Lee C. Iijima</td>\n",
       "      <td>Dr. H. Thanisch (Erben Müller-Burggraef) 2013 ...</td>\n",
       "      <td>Riesling</td>\n",
       "      <td>Dr. H. Thanisch (Erben Müller-Burggraef)</td>\n",
       "      <td>True</td>\n",
       "      <td>False</td>\n",
       "      <td>notes of honeysuckle and cantaloupe sweeten th...</td>\n",
       "    </tr>\n",
       "    <tr>\n",
       "      <th>111507</th>\n",
       "      <td>US</td>\n",
       "      <td>90</td>\n",
       "      <td>75.0</td>\n",
       "      <td>Oregon</td>\n",
       "      <td>Oregon</td>\n",
       "      <td>Paul Gregutt</td>\n",
       "      <td>Citation 2004 Pinot Noir (Oregon)</td>\n",
       "      <td>Pinot Noir</td>\n",
       "      <td>Citation</td>\n",
       "      <td>False</td>\n",
       "      <td>True</td>\n",
       "      <td>citation is given as much as a decade of bottl...</td>\n",
       "    </tr>\n",
       "    <tr>\n",
       "      <th>111508</th>\n",
       "      <td>France</td>\n",
       "      <td>90</td>\n",
       "      <td>30.0</td>\n",
       "      <td>Alsace</td>\n",
       "      <td>Alsace</td>\n",
       "      <td>Roger Voss</td>\n",
       "      <td>Domaine Gresser 2013 Kritt Gewurztraminer (Als...</td>\n",
       "      <td>Gewürztraminer</td>\n",
       "      <td>Domaine Gresser</td>\n",
       "      <td>True</td>\n",
       "      <td>True</td>\n",
       "      <td>well-drained gravel soil gives this wine its c...</td>\n",
       "    </tr>\n",
       "    <tr>\n",
       "      <th>111509</th>\n",
       "      <td>France</td>\n",
       "      <td>90</td>\n",
       "      <td>32.0</td>\n",
       "      <td>Alsace</td>\n",
       "      <td>Alsace</td>\n",
       "      <td>Roger Voss</td>\n",
       "      <td>Domaine Marcel Deiss 2012 Pinot Gris (Alsace)</td>\n",
       "      <td>Pinot Gris</td>\n",
       "      <td>Domaine Marcel Deiss</td>\n",
       "      <td>False</td>\n",
       "      <td>True</td>\n",
       "      <td>a dry style of pinot gris, this is crisp with ...</td>\n",
       "    </tr>\n",
       "    <tr>\n",
       "      <th>111510</th>\n",
       "      <td>France</td>\n",
       "      <td>90</td>\n",
       "      <td>21.0</td>\n",
       "      <td>Alsace</td>\n",
       "      <td>Alsace</td>\n",
       "      <td>Roger Voss</td>\n",
       "      <td>Domaine Schoffit 2012 Lieu-dit Harth Cuvée Car...</td>\n",
       "      <td>Gewürztraminer</td>\n",
       "      <td>Domaine Schoffit</td>\n",
       "      <td>True</td>\n",
       "      <td>True</td>\n",
       "      <td>big, rich and off-dry, this is powered by inte...</td>\n",
       "    </tr>\n",
       "  </tbody>\n",
       "</table>\n",
       "<p>111511 rows × 12 columns</p>\n",
       "</div>"
      ],
      "text/plain": [
       "         country  points  price        province             region_1  \\\n",
       "0       Portugal      87   15.0           Douro                  NaN   \n",
       "1             US      87   14.0          Oregon    Willamette Valley   \n",
       "2             US      87   13.0        Michigan  Lake Michigan Shore   \n",
       "3             US      87   65.0          Oregon    Willamette Valley   \n",
       "4          Spain      87   15.0  Northern Spain              Navarra   \n",
       "...          ...     ...    ...             ...                  ...   \n",
       "111506   Germany      90   28.0           Mosel                  NaN   \n",
       "111507        US      90   75.0          Oregon               Oregon   \n",
       "111508    France      90   30.0          Alsace               Alsace   \n",
       "111509    France      90   32.0          Alsace               Alsace   \n",
       "111510    France      90   21.0          Alsace               Alsace   \n",
       "\n",
       "               taster_name                                              title  \\\n",
       "0               Roger Voss      Quinta dos Avidagos 2011 Avidagos Red (Douro)   \n",
       "1             Paul Gregutt      Rainstorm 2013 Pinot Gris (Willamette Valley)   \n",
       "2       Alexander Peartree  St. Julian 2013 Reserve Late Harvest Riesling ...   \n",
       "3             Paul Gregutt  Sweet Cheeks 2012 Vintner's Reserve Wild Child...   \n",
       "4        Michael Schachner  Tandem 2011 Ars In Vitro Tempranillo-Merlot (N...   \n",
       "...                    ...                                                ...   \n",
       "111506  Anna Lee C. Iijima  Dr. H. Thanisch (Erben Müller-Burggraef) 2013 ...   \n",
       "111507        Paul Gregutt                  Citation 2004 Pinot Noir (Oregon)   \n",
       "111508          Roger Voss  Domaine Gresser 2013 Kritt Gewurztraminer (Als...   \n",
       "111509          Roger Voss      Domaine Marcel Deiss 2012 Pinot Gris (Alsace)   \n",
       "111510          Roger Voss  Domaine Schoffit 2012 Lieu-dit Harth Cuvée Car...   \n",
       "\n",
       "                   variety                                    winery  \\\n",
       "0           Portuguese Red                       Quinta dos Avidagos   \n",
       "1               Pinot Gris                                 Rainstorm   \n",
       "2                 Riesling                                St. Julian   \n",
       "3               Pinot Noir                              Sweet Cheeks   \n",
       "4       Tempranillo-Merlot                                    Tandem   \n",
       "...                    ...                                       ...   \n",
       "111506            Riesling  Dr. H. Thanisch (Erben Müller-Burggraef)   \n",
       "111507          Pinot Noir                                  Citation   \n",
       "111508      Gewürztraminer                           Domaine Gresser   \n",
       "111509          Pinot Gris                      Domaine Marcel Deiss   \n",
       "111510      Gewürztraminer                          Domaine Schoffit   \n",
       "\n",
       "        has_designation  has_taster_twitter_handle  \\\n",
       "0                  True                       True   \n",
       "1                 False                       True   \n",
       "2                  True                      False   \n",
       "3                  True                       True   \n",
       "4                  True                       True   \n",
       "...                 ...                        ...   \n",
       "111506             True                      False   \n",
       "111507            False                       True   \n",
       "111508             True                       True   \n",
       "111509            False                       True   \n",
       "111510             True                       True   \n",
       "\n",
       "                                        lower_description  \n",
       "0       this is ripe and fruity, a wine that is smooth...  \n",
       "1       tart and snappy, the flavors of lime flesh and...  \n",
       "2       pineapple rind, lemon pith and orange blossom ...  \n",
       "3       much like the regular bottling from 2012, this...  \n",
       "4       blackberry and raspberry aromas show a typical...  \n",
       "...                                                   ...  \n",
       "111506  notes of honeysuckle and cantaloupe sweeten th...  \n",
       "111507  citation is given as much as a decade of bottl...  \n",
       "111508  well-drained gravel soil gives this wine its c...  \n",
       "111509  a dry style of pinot gris, this is crisp with ...  \n",
       "111510  big, rich and off-dry, this is powered by inte...  \n",
       "\n",
       "[111511 rows x 12 columns]"
      ]
     },
     "execution_count": 149,
     "metadata": {},
     "output_type": "execute_result"
    }
   ],
   "source": [
    "df.drop_duplicates(subset='lower_description',inplace=True)\n",
    "df.reset_index(drop=True)"
   ]
  },
  {
   "cell_type": "markdown",
   "metadata": {},
   "source": [
    "### Descriptive Statistics\n",
    "\n",
    "Now let's take a look at some descriptive statistics the dataset."
   ]
  },
  {
   "cell_type": "code",
   "execution_count": 121,
   "metadata": {},
   "outputs": [
    {
     "name": "stdout",
     "output_type": "stream",
     "text": [
      "Number of observations: 111511\n",
      "Number of columns: 12\n"
     ]
    }
   ],
   "source": [
    "print('Number of observations: {}'.format(df.shape[0]))\n",
    "print('Number of columns: {}'.format(df.shape[1]))"
   ]
  },
  {
   "cell_type": "code",
   "execution_count": 122,
   "metadata": {},
   "outputs": [
    {
     "data": {
      "text/plain": [
       "country                      False\n",
       "points                       False\n",
       "price                        False\n",
       "province                     False\n",
       "region_1                      True\n",
       "taster_name                   True\n",
       "title                        False\n",
       "variety                      False\n",
       "winery                       False\n",
       "has_designation              False\n",
       "has_taster_twitter_handle    False\n",
       "lower_description            False\n",
       "dtype: bool"
      ]
     },
     "execution_count": 122,
     "metadata": {},
     "output_type": "execute_result"
    }
   ],
   "source": [
    "df.isnull().any()"
   ]
  },
  {
   "cell_type": "code",
   "execution_count": 94,
   "metadata": {},
   "outputs": [
    {
     "data": {
      "text/html": [
       "<div>\n",
       "<style scoped>\n",
       "    .dataframe tbody tr th:only-of-type {\n",
       "        vertical-align: middle;\n",
       "    }\n",
       "\n",
       "    .dataframe tbody tr th {\n",
       "        vertical-align: top;\n",
       "    }\n",
       "\n",
       "    .dataframe thead th {\n",
       "        text-align: right;\n",
       "    }\n",
       "</style>\n",
       "<table border=\"1\" class=\"dataframe\">\n",
       "  <thead>\n",
       "    <tr style=\"text-align: right;\">\n",
       "      <th></th>\n",
       "      <th>points</th>\n",
       "      <th>price</th>\n",
       "    </tr>\n",
       "  </thead>\n",
       "  <tbody>\n",
       "    <tr>\n",
       "      <th>count</th>\n",
       "      <td>111511.000000</td>\n",
       "      <td>111511.000000</td>\n",
       "    </tr>\n",
       "    <tr>\n",
       "      <th>mean</th>\n",
       "      <td>88.413905</td>\n",
       "      <td>35.626073</td>\n",
       "    </tr>\n",
       "    <tr>\n",
       "      <th>std</th>\n",
       "      <td>3.099332</td>\n",
       "      <td>42.116495</td>\n",
       "    </tr>\n",
       "    <tr>\n",
       "      <th>min</th>\n",
       "      <td>80.000000</td>\n",
       "      <td>4.000000</td>\n",
       "    </tr>\n",
       "    <tr>\n",
       "      <th>25%</th>\n",
       "      <td>86.000000</td>\n",
       "      <td>17.000000</td>\n",
       "    </tr>\n",
       "    <tr>\n",
       "      <th>50%</th>\n",
       "      <td>88.000000</td>\n",
       "      <td>25.000000</td>\n",
       "    </tr>\n",
       "    <tr>\n",
       "      <th>75%</th>\n",
       "      <td>91.000000</td>\n",
       "      <td>42.000000</td>\n",
       "    </tr>\n",
       "    <tr>\n",
       "      <th>max</th>\n",
       "      <td>100.000000</td>\n",
       "      <td>3300.000000</td>\n",
       "    </tr>\n",
       "  </tbody>\n",
       "</table>\n",
       "</div>"
      ],
      "text/plain": [
       "              points          price\n",
       "count  111511.000000  111511.000000\n",
       "mean       88.413905      35.626073\n",
       "std         3.099332      42.116495\n",
       "min        80.000000       4.000000\n",
       "25%        86.000000      17.000000\n",
       "50%        88.000000      25.000000\n",
       "75%        91.000000      42.000000\n",
       "max       100.000000    3300.000000"
      ]
     },
     "execution_count": 94,
     "metadata": {},
     "output_type": "execute_result"
    }
   ],
   "source": [
    "df.describe()"
   ]
  },
  {
   "cell_type": "markdown",
   "metadata": {},
   "source": [
    "This is an summary statistics of numeric variables. Points range from 80-100, which is not a wide range. Price, however, has a very wide range, from 4 to 3,300. We will take a closer look later to see if we need to remove any outliers."
   ]
  },
  {
   "cell_type": "markdown",
   "metadata": {},
   "source": [
    "#### 1. country"
   ]
  },
  {
   "cell_type": "code",
   "execution_count": 110,
   "metadata": {},
   "outputs": [],
   "source": [
    "country_counts = df.country.value_counts()"
   ]
  },
  {
   "cell_type": "code",
   "execution_count": 133,
   "metadata": {},
   "outputs": [
    {
     "data": {
      "text/plain": [
       "Text(0, 0.5, 'number of wine counts')"
      ]
     },
     "execution_count": 133,
     "metadata": {},
     "output_type": "execute_result"
    },
    {
     "data": {
      "image/png": "[encoded data removed]",
      "text/plain": [
       "<Figure size 432x288 with 1 Axes>"
      ]
     },
     "metadata": {
      "needs_background": "light"
     },
     "output_type": "display_data"
    }
   ],
   "source": [
    "plt.bar(country_counts.index.values[0:15],country_counts.values[0:15])\n",
    "plt.title('Top 15 countries of wine')\n",
    "plt.xlabel('country')\n",
    "plt.xticks(rotation=45)\n",
    "plt.ylabel('number of wine counts')"
   ]
  },
  {
   "cell_type": "markdown",
   "metadata": {},
   "source": [
    "We can see that US have the most number of wines, which is more than twice of the second country, France."
   ]
  },
  {
   "cell_type": "markdown",
   "metadata": {},
   "source": [
    "#### 2. points\n",
    "\n",
    "Points is the response variable that we will predict. "
   ]
  },
  {
   "cell_type": "markdown",
   "metadata": {},
   "source": [
    "#### 3. price"
   ]
  },
  {
   "cell_type": "code",
   "execution_count": 134,
   "metadata": {},
   "outputs": [
    {
     "data": {
      "text/plain": [
       "Text(0, 0.5, 'Point')"
      ]
     },
     "execution_count": 134,
     "metadata": {},
     "output_type": "execute_result"
    },
    {
     "data": {
      "image/png": "[encoded data removed]",
      "text/plain": [
       "<Figure size 432x288 with 1 Axes>"
      ]
     },
     "metadata": {
      "needs_background": "light"
     },
     "output_type": "display_data"
    }
   ],
   "source": [
    "df2 = df.sort_values(by='price')\n",
    "plt.plot(df2.price,df2.points,'o')\n",
    "plt.title('Price vs. Points')\n",
    "plt.xlabel('Price')\n",
    "plt.ylabel('Point')"
   ]
  },
  {
   "cell_type": "markdown",
   "metadata": {},
   "source": [
    "From the scatter plot, we can see that most wine prices are below 1000, the few points above 1000 may cause our model to be twisted towards those points. So we probably need to remove prices over 1000 when fitting the model."
   ]
  },
  {
   "cell_type": "markdown",
   "metadata": {},
   "source": [
    "#### 4. province "
   ]
  },
  {
   "cell_type": "code",
   "execution_count": 135,
   "metadata": {},
   "outputs": [
    {
     "data": {
      "text/plain": [
       "California           33520\n",
       "Washington            7911\n",
       "Oregon                4917\n",
       "Tuscany               4686\n",
       "Bordeaux              3692\n",
       "                     ...  \n",
       "Viile Timis              1\n",
       "Dalmatian Coast          1\n",
       "Dealurile Hușilor        1\n",
       "Dolenjska                1\n",
       "China                    1\n",
       "Name: province, Length: 422, dtype: int64"
      ]
     },
     "execution_count": 135,
     "metadata": {},
     "output_type": "execute_result"
    }
   ],
   "source": [
    "df.province.value_counts()"
   ]
  },
  {
   "cell_type": "markdown",
   "metadata": {},
   "source": [
    "#### 5. region_1"
   ]
  },
  {
   "cell_type": "code",
   "execution_count": 136,
   "metadata": {},
   "outputs": [
    {
     "data": {
      "text/plain": [
       "Napa Valley                                4170\n",
       "Columbia Valley (WA)                       3780\n",
       "Russian River Valley                       2860\n",
       "California                                 2466\n",
       "Paso Robles                                2132\n",
       "                                           ... \n",
       "Coteaux d'Ancenis                             1\n",
       "Vino de la Tierra Contraviesa Alpujarra       1\n",
       "Rivesaltes Rosé                               1\n",
       "Delia Nivolelli                               1\n",
       "Vin de Pays du Jardin de la France            1\n",
       "Name: region_1, Length: 1204, dtype: int64"
      ]
     },
     "execution_count": 136,
     "metadata": {},
     "output_type": "execute_result"
    }
   ],
   "source": [
    "df.region_1.value_counts()"
   ]
  },
  {
   "cell_type": "markdown",
   "metadata": {},
   "source": [
    "#### 6. taster_name"
   ]
  },
  {
   "cell_type": "code",
   "execution_count": 137,
   "metadata": {},
   "outputs": [
    {
     "data": {
      "text/plain": [
       "Roger Voss            18543\n",
       "Michael Schachner     13863\n",
       "Kerin O’Keefe          8872\n",
       "Paul Gregutt           8836\n",
       "Virginie Boone         8681\n",
       "Matt Kettmann          5642\n",
       "Joe Czerwinski         4642\n",
       "Sean P. Sullivan       4422\n",
       "Anna Lee C. Iijima     3974\n",
       "Jim Gordon             3761\n",
       "Anne Krebiehl MW       3027\n",
       "Lauren Buzzeo          1581\n",
       "Susan Kostrzewa        1005\n",
       "Mike DeSimone           441\n",
       "Jeff Jenssen            415\n",
       "Alexander Peartree      381\n",
       "Carrie Dykes            128\n",
       "Fiona Adams              24\n",
       "Christina Pickard         6\n",
       "Name: taster_name, dtype: int64"
      ]
     },
     "execution_count": 137,
     "metadata": {},
     "output_type": "execute_result"
    }
   ],
   "source": [
    "df.taster_name.value_counts()"
   ]
  },
  {
   "cell_type": "markdown",
   "metadata": {},
   "source": [
    "#### 7. title"
   ]
  },
  {
   "cell_type": "code",
   "execution_count": 138,
   "metadata": {},
   "outputs": [
    {
     "data": {
      "text/plain": [
       "Gloria Ferrer NV Sonoma Brut Sparkling (Sonoma County)                                  9\n",
       "Segura Viudas NV Extra Dry Sparkling (Cava)                                             7\n",
       "Segura Viudas NV Aria Estate Extra Dry Sparkling (Cava)                                 7\n",
       "Bailly-Lapierre NV Brut  (Crémant de Bourgogne)                                         6\n",
       "Korbel NV Brut Sparkling (California)                                                   6\n",
       "                                                                                       ..\n",
       "Bodegas Luzón 2010 Luzon Verde Monastrell (Jumilla)                                     1\n",
       "Palumbo Family Vineyards 2013 Grenache (Temecula Valley)                                1\n",
       "Cap Royal 2014  Bordeaux Supérieur                                                      1\n",
       "Antonio Caggiano 2007 Devon  (Greco di Tufo)                                            1\n",
       "Terre Rouge 2009 Sentinel Oak Vineyard, Pyramid Block Syrah (Shenandoah Valley (CA))    1\n",
       "Name: title, Length: 110556, dtype: int64"
      ]
     },
     "execution_count": 138,
     "metadata": {},
     "output_type": "execute_result"
    }
   ],
   "source": [
    "df.title.value_counts()"
   ]
  },
  {
   "cell_type": "markdown",
   "metadata": {},
   "source": [
    "#### 8. variety                      \n"
   ]
  },
  {
   "cell_type": "code",
   "execution_count": 139,
   "metadata": {},
   "outputs": [
    {
     "data": {
      "text/plain": [
       "Pinot Noir                    11832\n",
       "Chardonnay                    10234\n",
       "Cabernet Sauvignon             8758\n",
       "Red Blend                      7796\n",
       "Bordeaux-style Red Blend       4958\n",
       "                              ...  \n",
       "Siegerrebe                        1\n",
       "Cabernet Sauvignon-Barbera        1\n",
       "Other                             1\n",
       "Chardonnay-Pinot Gris             1\n",
       "Verdosilla                        1\n",
       "Name: variety, Length: 691, dtype: int64"
      ]
     },
     "execution_count": 139,
     "metadata": {},
     "output_type": "execute_result"
    }
   ],
   "source": [
    "df.variety.value_counts()"
   ]
  },
  {
   "cell_type": "markdown",
   "metadata": {},
   "source": [
    "#### 9. winery                       "
   ]
  },
  {
   "cell_type": "code",
   "execution_count": 140,
   "metadata": {},
   "outputs": [
    {
     "data": {
      "text/plain": [
       "Williams Selyem          204\n",
       "Testarossa               200\n",
       "Wines & Winemakers       199\n",
       "DFJ Vinhos               194\n",
       "Chateau Ste. Michelle    169\n",
       "                        ... \n",
       "Periple                    1\n",
       "Lake Breeze                1\n",
       "Domaine Bègue-Mathiot      1\n",
       "Mad Hatter                 1\n",
       "Hagen Heights              1\n",
       "Name: winery, Length: 15842, dtype: int64"
      ]
     },
     "execution_count": 140,
     "metadata": {},
     "output_type": "execute_result"
    }
   ],
   "source": [
    "df.winery.value_counts()"
   ]
  },
  {
   "cell_type": "markdown",
   "metadata": {},
   "source": [
    "#### 10. has_designation              "
   ]
  },
  {
   "cell_type": "code",
   "execution_count": 141,
   "metadata": {},
   "outputs": [
    {
     "data": {
      "text/plain": [
       "True     79472\n",
       "False    32039\n",
       "Name: has_designation, dtype: int64"
      ]
     },
     "execution_count": 141,
     "metadata": {},
     "output_type": "execute_result"
    }
   ],
   "source": [
    "df.has_designation.value_counts()"
   ]
  },
  {
   "cell_type": "markdown",
   "metadata": {},
   "source": [
    "#### 11. has_taster_twitter_handle    "
   ]
  },
  {
   "cell_type": "code",
   "execution_count": 142,
   "metadata": {},
   "outputs": [
    {
     "data": {
      "text/plain": [
       "True     83761\n",
       "False    27750\n",
       "Name: has_taster_twitter_handle, dtype: int64"
      ]
     },
     "execution_count": 142,
     "metadata": {},
     "output_type": "execute_result"
    }
   ],
   "source": [
    "df.has_taster_twitter_handle.value_counts()"
   ]
  },
  {
   "cell_type": "markdown",
   "metadata": {},
   "source": [
    "#### 12. lower_description\n",
    "\n",
    "I am interested in the length of the description. I would like to see if the length of the description has anything to do with the point of the wine. So I will create another variable to count the number of words of each description."
   ]
  },
  {
   "cell_type": "code",
   "execution_count": 151,
   "metadata": {},
   "outputs": [],
   "source": [
    "# pre-processing text steps: \n",
    "# 1. Remove numbers 2. Remove punctuation marks and stopwords 3. Remove extra whitespaces\n",
    "def pre_processing(text):\n",
    "    # split into words\n",
    "    tokens = word_tokenize(text)\n",
    "    # remove punctuation from each word\n",
    "    import string\n",
    "    table = str.maketrans('', '', string.punctuation)\n",
    "    stripped = [w.translate(table) for w in tokens]\n",
    "    # remove remaining tokens that are not alphabetic\n",
    "    words = [word for word in stripped if word.isalpha()]\n",
    "    # filter out stop words\n",
    "    from nltk.corpus import stopwords\n",
    "    stop_words = set(stopwords.words('english'))\n",
    "    words = [w for w in words if not w in stop_words]\n",
    "    return words"
   ]
  },
  {
   "cell_type": "code",
   "execution_count": 153,
   "metadata": {},
   "outputs": [],
   "source": [
    "description_words = df.lower_description.apply(lambda x: pre_processing(x))"
   ]
  },
  {
   "cell_type": "code",
   "execution_count": 154,
   "metadata": {},
   "outputs": [],
   "source": [
    "df.loc[:,'word_length'] = description_words.apply(lambda x: len(x))"
   ]
  },
  {
   "cell_type": "code",
   "execution_count": 160,
   "metadata": {},
   "outputs": [
    {
     "data": {
      "text/plain": [
       "Text(0, 0.5, 'Point')"
      ]
     },
     "execution_count": 160,
     "metadata": {},
     "output_type": "execute_result"
    },
    {
     "data": {
      "image/png": "[encoded data removed]",
      "text/plain": [
       "<Figure size 432x288 with 1 Axes>"
      ]
     },
     "metadata": {
      "needs_background": "light"
     },
     "output_type": "display_data"
    }
   ],
   "source": [
    "df2 = df.sort_values(by='word_length')\n",
    "plt.plot(df2.word_length, df2.points,'o')\n",
    "plt.title('Length of Description vs. Points')\n",
    "plt.xlabel('Length of Description')\n",
    "plt.ylabel('Point')"
   ]
  },
  {
   "cell_type": "markdown",
   "metadata": {},
   "source": [
    "From the plot we can see that there's a positive relationship between the length of the description and point of the wine. We will include this variable in the model."
   ]
  },
  {
   "cell_type": "markdown",
   "metadata": {},
   "source": [
    "I am also curious about what words are mostly used when reviewing the wine. So let's create a wordcloud."
   ]
  },
  {
   "cell_type": "code",
   "execution_count": 175,
   "metadata": {},
   "outputs": [
    {
     "name": "stdout",
     "output_type": "stream",
     "text": [
      "There are 19642007 words in the combination of all review.\n"
     ]
    },
    {
     "data": {
      "image/png": "[encoded data removed]",
      "text/plain": [
       "<Figure size 432x288 with 1 Axes>"
      ]
     },
     "metadata": {
      "needs_background": "light"
     },
     "output_type": "display_data"
    }
   ],
   "source": [
    "# text = [w for word in description_words for w in word]\n",
    "text = \" \".join([w for word in description_words for w in word])\n",
    "print (\"There are {} words in the combination of all review.\".format(len(text)))\n",
    "\n",
    "# remove common words in reviews: like flavor, drink, etc.\n",
    "stopwords = ['flavor','drink','taste']\n",
    "\n",
    "wordcloud = WordCloud(stopwords = stopwords, background_color=\"white\").generate(text)\n",
    "\n",
    "\n",
    "# Display the generated image:\n",
    "# the matplotlib way:\n",
    "plt.imshow(wordcloud, interpolation='bilinear')\n",
    "plt.axis(\"off\")\n",
    "plt.show()"
   ]
  },
  {
   "cell_type": "code",
   "execution_count": 176,
   "metadata": {},
   "outputs": [
    {
     "data": {
      "text/html": [
       "<div>\n",
       "<style scoped>\n",
       "    .dataframe tbody tr th:only-of-type {\n",
       "        vertical-align: middle;\n",
       "    }\n",
       "\n",
       "    .dataframe tbody tr th {\n",
       "        vertical-align: top;\n",
       "    }\n",
       "\n",
       "    .dataframe thead th {\n",
       "        text-align: right;\n",
       "    }\n",
       "</style>\n",
       "<table border=\"1\" class=\"dataframe\">\n",
       "  <thead>\n",
       "    <tr style=\"text-align: right;\">\n",
       "      <th></th>\n",
       "      <th>country</th>\n",
       "      <th>points</th>\n",
       "      <th>price</th>\n",
       "      <th>province</th>\n",
       "      <th>region_1</th>\n",
       "      <th>taster_name</th>\n",
       "      <th>title</th>\n",
       "      <th>variety</th>\n",
       "      <th>winery</th>\n",
       "      <th>has_designation</th>\n",
       "      <th>has_taster_twitter_handle</th>\n",
       "      <th>lower_description</th>\n",
       "      <th>word_length</th>\n",
       "    </tr>\n",
       "  </thead>\n",
       "  <tbody>\n",
       "    <tr>\n",
       "      <th>1</th>\n",
       "      <td>Portugal</td>\n",
       "      <td>87</td>\n",
       "      <td>15.0</td>\n",
       "      <td>Douro</td>\n",
       "      <td>NaN</td>\n",
       "      <td>Roger Voss</td>\n",
       "      <td>Quinta dos Avidagos 2011 Avidagos Red (Douro)</td>\n",
       "      <td>Portuguese Red</td>\n",
       "      <td>Quinta dos Avidagos</td>\n",
       "      <td>True</td>\n",
       "      <td>True</td>\n",
       "      <td>this is ripe and fruity, a wine that is smooth...</td>\n",
       "      <td>20</td>\n",
       "    </tr>\n",
       "    <tr>\n",
       "      <th>2</th>\n",
       "      <td>US</td>\n",
       "      <td>87</td>\n",
       "      <td>14.0</td>\n",
       "      <td>Oregon</td>\n",
       "      <td>Willamette Valley</td>\n",
       "      <td>Paul Gregutt</td>\n",
       "      <td>Rainstorm 2013 Pinot Gris (Willamette Valley)</td>\n",
       "      <td>Pinot Gris</td>\n",
       "      <td>Rainstorm</td>\n",
       "      <td>False</td>\n",
       "      <td>True</td>\n",
       "      <td>tart and snappy, the flavors of lime flesh and...</td>\n",
       "      <td>17</td>\n",
       "    </tr>\n",
       "    <tr>\n",
       "      <th>3</th>\n",
       "      <td>US</td>\n",
       "      <td>87</td>\n",
       "      <td>13.0</td>\n",
       "      <td>Michigan</td>\n",
       "      <td>Lake Michigan Shore</td>\n",
       "      <td>Alexander Peartree</td>\n",
       "      <td>St. Julian 2013 Reserve Late Harvest Riesling ...</td>\n",
       "      <td>Riesling</td>\n",
       "      <td>St. Julian</td>\n",
       "      <td>True</td>\n",
       "      <td>False</td>\n",
       "      <td>pineapple rind, lemon pith and orange blossom ...</td>\n",
       "      <td>21</td>\n",
       "    </tr>\n",
       "    <tr>\n",
       "      <th>4</th>\n",
       "      <td>US</td>\n",
       "      <td>87</td>\n",
       "      <td>65.0</td>\n",
       "      <td>Oregon</td>\n",
       "      <td>Willamette Valley</td>\n",
       "      <td>Paul Gregutt</td>\n",
       "      <td>Sweet Cheeks 2012 Vintner's Reserve Wild Child...</td>\n",
       "      <td>Pinot Noir</td>\n",
       "      <td>Sweet Cheeks</td>\n",
       "      <td>True</td>\n",
       "      <td>True</td>\n",
       "      <td>much like the regular bottling from 2012, this...</td>\n",
       "      <td>24</td>\n",
       "    </tr>\n",
       "    <tr>\n",
       "      <th>5</th>\n",
       "      <td>Spain</td>\n",
       "      <td>87</td>\n",
       "      <td>15.0</td>\n",
       "      <td>Northern Spain</td>\n",
       "      <td>Navarra</td>\n",
       "      <td>Michael Schachner</td>\n",
       "      <td>Tandem 2011 Ars In Vitro Tempranillo-Merlot (N...</td>\n",
       "      <td>Tempranillo-Merlot</td>\n",
       "      <td>Tandem</td>\n",
       "      <td>True</td>\n",
       "      <td>True</td>\n",
       "      <td>blackberry and raspberry aromas show a typical...</td>\n",
       "      <td>27</td>\n",
       "    </tr>\n",
       "  </tbody>\n",
       "</table>\n",
       "</div>"
      ],
      "text/plain": [
       "    country  points  price        province             region_1  \\\n",
       "1  Portugal      87   15.0           Douro                  NaN   \n",
       "2        US      87   14.0          Oregon    Willamette Valley   \n",
       "3        US      87   13.0        Michigan  Lake Michigan Shore   \n",
       "4        US      87   65.0          Oregon    Willamette Valley   \n",
       "5     Spain      87   15.0  Northern Spain              Navarra   \n",
       "\n",
       "          taster_name                                              title  \\\n",
       "1          Roger Voss      Quinta dos Avidagos 2011 Avidagos Red (Douro)   \n",
       "2        Paul Gregutt      Rainstorm 2013 Pinot Gris (Willamette Valley)   \n",
       "3  Alexander Peartree  St. Julian 2013 Reserve Late Harvest Riesling ...   \n",
       "4        Paul Gregutt  Sweet Cheeks 2012 Vintner's Reserve Wild Child...   \n",
       "5   Michael Schachner  Tandem 2011 Ars In Vitro Tempranillo-Merlot (N...   \n",
       "\n",
       "              variety               winery  has_designation  \\\n",
       "1      Portuguese Red  Quinta dos Avidagos             True   \n",
       "2          Pinot Gris            Rainstorm            False   \n",
       "3            Riesling           St. Julian             True   \n",
       "4          Pinot Noir         Sweet Cheeks             True   \n",
       "5  Tempranillo-Merlot               Tandem             True   \n",
       "\n",
       "   has_taster_twitter_handle  \\\n",
       "1                       True   \n",
       "2                       True   \n",
       "3                      False   \n",
       "4                       True   \n",
       "5                       True   \n",
       "\n",
       "                                   lower_description  word_length  \n",
       "1  this is ripe and fruity, a wine that is smooth...           20  \n",
       "2  tart and snappy, the flavors of lime flesh and...           17  \n",
       "3  pineapple rind, lemon pith and orange blossom ...           21  \n",
       "4  much like the regular bottling from 2012, this...           24  \n",
       "5  blackberry and raspberry aromas show a typical...           27  "
      ]
     },
     "execution_count": 176,
     "metadata": {},
     "output_type": "execute_result"
    }
   ],
   "source": [
    "df.head()"
   ]
  },
  {
   "cell_type": "markdown",
   "metadata": {},
   "source": [
    "###  Model Building"
   ]
  },
  {
   "cell_type": "markdown",
   "metadata": {},
   "source": [
    "After going through the dataset, I think the points of the wine are most relevant to the wine reviews (which is variable word_length) of the tasters. When doing a wine tasting, a wine taster is based on the wine he/she tastes himself/herself, not the country, variety or the winery. Although other factors may also contribute to the points, but the direct factor is the review contents. Therefore, I will include word_length as the input variable to fit the models and do predictions. \n",
    "\n",
    "Besides, I also include price in the model. Price has a direct relationship with points based on people's common sense. Pricy wines are more likely to be rated high because the price itself is a sign of recognition.\n",
    "\n",
    "I will also include the two dummy variables, has_designation and has_taster_twitter_handle in my model."
   ]
  },
  {
   "cell_type": "markdown",
   "metadata": {},
   "source": [
    "#### Linear Regression"
   ]
  },
  {
   "cell_type": "code",
   "execution_count": 191,
   "metadata": {},
   "outputs": [],
   "source": [
    "from sklearn import linear_model\n",
    "from sklearn.model_selection import train_test_split\n",
    "from sklearn.metrics import mean_squared_error, r2_score"
   ]
  },
  {
   "cell_type": "code",
   "execution_count": 187,
   "metadata": {},
   "outputs": [],
   "source": [
    "# split the dataset into training set and testing set\n",
    "X = df[['price','word_length','has_designation','has_taster_twitter_handle']]\n",
    "y = df.points\n",
    "X_train,X_test, y_train, y_test = train_test_split(X,y,train_size=0.7, random_state=542)"
   ]
  },
  {
   "cell_type": "code",
   "execution_count": 188,
   "metadata": {},
   "outputs": [],
   "source": [
    "lm = linear_model.LinearRegression()\n",
    "model = lm.fit(X_train,y_train)"
   ]
  },
  {
   "cell_type": "code",
   "execution_count": 189,
   "metadata": {},
   "outputs": [
    {
     "data": {
      "text/plain": [
       "array([90.08416348, 88.33252849, 89.18232105, ..., 87.83498897,\n",
       "       91.08317284, 87.85748777])"
      ]
     },
     "execution_count": 189,
     "metadata": {},
     "output_type": "execute_result"
    }
   ],
   "source": [
    "predictions = lm.predict(X_test)\n",
    "predictions"
   ]
  },
  {
   "cell_type": "code",
   "execution_count": 193,
   "metadata": {},
   "outputs": [
    {
     "name": "stdout",
     "output_type": "stream",
     "text": [
      "Coefficients: \n",
      " [0.02236296 0.21802675 0.47508923 0.51253004]\n",
      "Mean squared error: 5.93\n",
      "Coefficient of determination: 0.39\n"
     ]
    }
   ],
   "source": [
    "# The coefficients\n",
    "print('Coefficients: \\n', model.coef_)\n",
    "# The mean squared error\n",
    "print('Mean squared error: %.2f'\n",
    "      % mean_squared_error(y_test, predictions))\n",
    "# The coefficient of determination: 1 is perfect prediction\n",
    "print('Coefficient of determination: %.2f'\n",
    "      % r2_score(y_test, predictions))\n"
   ]
  },
  {
   "cell_type": "code",
   "execution_count": 201,
   "metadata": {},
   "outputs": [
    {
     "name": "stdout",
     "output_type": "stream",
     "text": [
      "Coefficients: \n",
      " [0.02890887 0.20884274 0.42497099 0.55118905]\n",
      "Mean squared error: 5.47\n",
      "Coefficient of determination: 0.43\n"
     ]
    }
   ],
   "source": [
    "# split the dataset into training set and testing set\n",
    "X = df[['price','word_length','has_designation','has_taster_twitter_handle']]\n",
    "X = X[X.price<=1000]\n",
    "y = df.points[df.price<=1000]\n",
    "X_train,X_test, y_train, y_test = train_test_split(X,y,train_size=0.7, random_state=542)\n",
    "\n",
    "lm = linear_model.LinearRegression()\n",
    "model = lm.fit(X_train,y_train)\n",
    "\n",
    "predictions = lm.predict(X_test)\n",
    "predictions\n",
    "\n",
    "# The coefficients\n",
    "print('Coefficients: \\n', model.coef_)\n",
    "# The mean squared error\n",
    "print('Mean squared error: %.2f'\n",
    "      % mean_squared_error(y_test, predictions))\n",
    "# The coefficient of determination: 1 is perfect prediction\n",
    "print('Coefficient of determination: %.2f'\n",
    "      % r2_score(y_test, predictions))\n"
   ]
  },
  {
   "cell_type": "markdown",
   "metadata": {},
   "source": [
    "#### Random Forest"
   ]
  },
  {
   "cell_type": "code",
   "execution_count": 199,
   "metadata": {},
   "outputs": [],
   "source": [
    "from sklearn.ensemble import RandomForestRegressor"
   ]
  },
  {
   "cell_type": "code",
   "execution_count": 207,
   "metadata": {},
   "outputs": [
    {
     "name": "stdout",
     "output_type": "stream",
     "text": [
      "Coefficients: \n",
      " [0.02890887 0.20884274 0.42497099 0.55118905]\n",
      "Mean squared error: 4.63\n",
      "Coefficient of determination: 0.52\n"
     ]
    }
   ],
   "source": [
    "rf = RandomForestRegressor(n_estimators = 20, max_depth = 5, random_state=542)\n",
    "model2 = rf.fit(X_train, y_train)\n",
    "\n",
    "predictions = rf.predict(X_test)\n",
    "\n",
    "# The coefficients\n",
    "print('Coefficients: \\n', model.coef_)\n",
    "# The mean squared error\n",
    "print('Mean squared error: %.2f'\n",
    "      % mean_squared_error(y_test, predictions))\n",
    "# The coefficient of determination: 1 is perfect prediction\n",
    "print('Coefficient of determination: %.2f'\n",
    "      % r2_score(y_test, predictions))\n"
   ]
  },
  {
   "cell_type": "markdown",
   "metadata": {},
   "source": [
    "We can see that Random Forest has a better $R^2$ compared to Linear Regression. But neither performs so well. The reasons could be that the variables are not directly related to the quality of the wine. If other factors like purity, sourness, etc. are included, we probably can get a better result."
   ]
  },
  {
   "cell_type": "code",
   "execution_count": null,
   "metadata": {},
   "outputs": [],
   "source": []
  }
 ],
 "metadata": {
  "kernelspec": {
   "display_name": "Python 3",
   "language": "python",
   "name": "python3"
  },
  "language_info": {
   "codemirror_mode": {
    "name": "ipython",
    "version": 3
   },
   "file_extension": ".py",
   "mimetype": "text/x-python",
   "name": "python",
   "nbconvert_exporter": "python",
   "pygments_lexer": "ipython3",
   "version": "3.7.3"
  }
 },
 "nbformat": 4,
 "nbformat_minor": 2
}
